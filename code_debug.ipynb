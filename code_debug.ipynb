{
 "cells": [
  {
   "cell_type": "code",
   "execution_count": null,
   "id": "incident-congo",
   "metadata": {},
   "outputs": [],
   "source": [
    "import configparser\n",
    "from datetime import datetime\n",
    "import os\n",
    "from pyspark.sql import SparkSession\n",
    "from pyspark.sql.functions import udf, col\n",
    "from pyspark.sql.functions import year, month, dayofmonth, hour, weekofyear, date_format, dayofweek, monotonically_increasing_id"
   ]
  },
  {
   "cell_type": "code",
   "execution_count": null,
   "id": "trying-ticket",
   "metadata": {},
   "outputs": [],
   "source": [
    "spark = SparkSession \\\n",
    "    .builder \\\n",
    "    .appName(\"Wrangling Data\") \\\n",
    "    .getOrCreate()"
   ]
  },
  {
   "cell_type": "code",
   "execution_count": null,
   "id": "orange-friendly",
   "metadata": {},
   "outputs": [],
   "source": [
    "def create_spark_session():\n",
    "    \"\"\"\n",
    "    create a spark session\n",
    "    \"\"\"\n",
    "    spark = SparkSession \\\n",
    "        .builder \\\n",
    "        .config(\"spark.jars.packages\", \"org.apache.hadoop:hadoop-aws:2.7.0\") \\\n",
    "        .getOrCreate()\n",
    "    return spark"
   ]
  },
  {
   "cell_type": "code",
   "execution_count": null,
   "id": "cordless-pennsylvania",
   "metadata": {},
   "outputs": [],
   "source": [
    "def process_song_data(spark, input_data, output_data):\n",
    "    \"\"\"\n",
    "    Function: Fetch data from song_data folder in S3 bucket and extract columns for songs and artists tables. \n",
    "    Write data into parquet files and load to S3 bucket\n",
    "    \n",
    "    parameter list\n",
    "    \n",
    "    spark:        session, spark session has been created. \n",
    "    input_data:   string of path, a path point to S3 bucket.\n",
    "    output_data:  string of path, a path point to destination in S3.\n",
    "           \n",
    "    \"\"\"\n",
    "    # get filepath to song data file\n",
    "    song_data = input_data + 'song_data/*/*/*/*.json'\n",
    "    \n",
    "    # read song data file\n",
    "    df = spark.read.json(song_data)\n",
    "\n",
    "    # extract columns to create songs table\n",
    "    songs_table = df.select('song_id', 'title','artist_id','year', 'duration').dropDuplicates()\n",
    "              \n",
    "    songs_table.createOrReplaceTempView('songs')\n",
    "    \n",
    "    # write songs table to parquet files partitioned by year and artist\n",
    "    songs_table.write.partitionBy('year', 'artist_id').parquet(os.path.join(output_data, 'songs/songs.parquet'), 'overwrite')\n",
    "\n",
    "    # extract columns to create artists table\n",
    "    artists_table = df.select('artist_id', 'artist_name', 'artist_location', 'artist_latitude', 'artist_longitude')\\\n",
    "                      .withColumnRenamed('artist_name', 'name')\\\n",
    "                      .withColumnRenamed('artist_location', 'location')\\\n",
    "                      .withColumnRenamed('artist_latitude', 'latitude')\\\n",
    "                      .withColumnRenamed('artist_longitude', 'longitude')\\\n",
    "                      .dropDuplicates()\n",
    "    artists_table.createOrReplaceTempView('artists')\n",
    " \n",
    "    # write artists table to parquet files\n",
    "    artists_table.write.parquet(os.path.join(output_data, 'artists/artists.parquet'), 'overwrite')\n"
   ]
  },
  {
   "cell_type": "code",
   "execution_count": null,
   "id": "civil-dynamics",
   "metadata": {},
   "outputs": [],
   "source": [
    "    spark = create_spark_session()\n",
    "#     input_data = \"s3a://udacity-dend/\"\n",
    "    input_data = \"./data/\"\n",
    "#     output_data = \"s3a://lj_loaded_data/\"\n",
    "    output_data = \"./data/output/\""
   ]
  },
  {
   "cell_type": "code",
   "execution_count": null,
   "id": "worthy-spread",
   "metadata": {},
   "outputs": [],
   "source": [
    "log_data = input_data + 'log_data/*.json'\n",
    "\n",
    "# read log data file\n",
    "df = spark.read.json(log_data)\n",
    "\n",
    "# filter by actions for song plays\n",
    "df_actions = df.filter(df.page == 'NextSong')\\\n",
    "               .select('ts', 'userId', 'level', 'song', 'artist', 'sessionId', 'length', 'location', 'userAgent')\n"
   ]
  },
  {
   "cell_type": "code",
   "execution_count": null,
   "id": "cordless-performance",
   "metadata": {},
   "outputs": [],
   "source": [
    " # extract columns for users table    \n",
    "users_table = df.select('userId', 'firstName', 'lastName', 'gender', 'level').dropDuplicates()\n",
    "\n",
    "users_table.createOrReplaceTempView('users')\n",
    "\n",
    "# write users table to parquet files\n",
    "users_table.write.parquet(os.path.join(output_data, 'users/users.parquet'), 'overwrite')\n",
    "\n",
    "# create timestamp column from original timestamp column\n",
    "get_timestamp = udf(lambda x: str(int(int(x) / 1000)))\n",
    "df_actions = df_actions.withColumn('timestamp', get_timestamp(df_actions.ts)) \n",
    "\n",
    "# create datetime column from original timestamp column\n",
    "get_datetime = udf(lambda x: str(datetime.fromtimestamp(int(x)/1000)))\n",
    "df_actions = df_actions.withColumn('datetime', get_datetime(df_actions.ts)) \n",
    "\n",
    "# extract columns to create time table\n",
    "time_table = df_actions.select('datetime')\\\n",
    "                       .withColumn('start_time', df_actions.datetime)\\\n",
    "                       .withColumn('hour', hour('datetime'))\\\n",
    "                       .withColumn('day', dayofmonth('datetime'))\\\n",
    "                       .withColumn('week', weekofyear('datetime'))\\\n",
    "                       .withColumn('month', month('datetime'))\\\n",
    "                       .withColumn('year', year('datetime'))\\\n",
    "                       .withColumn('weekday', dayofweek('datetime'))\\\n",
    "                       .dropDuplicates()\n",
    "\n",
    "# write time table to parquet files partitioned by year and month\n",
    "time_table.write.partitionBy('year', 'month')\\\n",
    "                .parquet(os.path.join(output_data, 'time/time.parquet'), 'overwrite')\n",
    "\n",
    "# read in song data to use for songplays table\n",
    "df_songs = spark.read.json(input_data + 'song_data/*/*/*/*.json')"
   ]
  },
  {
   "cell_type": "code",
   "execution_count": null,
   "id": "inappropriate-accounting",
   "metadata": {},
   "outputs": [],
   "source": [
    "df_songs.dropDuplicates()\n",
    "df_songs.printSchema()"
   ]
  },
  {
   "cell_type": "code",
   "execution_count": null,
   "id": "incorrect-yellow",
   "metadata": {},
   "outputs": [],
   "source": [
    "df_actions.printSchema()\n"
   ]
  },
  {
   "cell_type": "code",
   "execution_count": null,
   "id": "handed-pipeline",
   "metadata": {},
   "outputs": [],
   "source": [
    "df_actions.limit(100).toPandas()"
   ]
  },
  {
   "cell_type": "code",
   "execution_count": null,
   "id": "portuguese-criminal",
   "metadata": {},
   "outputs": [],
   "source": [
    "df_songs.take(1)"
   ]
  },
  {
   "cell_type": "code",
   "execution_count": null,
   "id": "speaking-assault",
   "metadata": {},
   "outputs": [],
   "source": [
    "df_song_actions = df_actions.join(df_songs, (df_actions['artist'] == df_songs['artist_name'])\n",
    "                                  & (df_actions['song'] == df_songs['title'])\n",
    "                                  & (df_actions['length'] == df_songs['duration']),'inner')"
   ]
  },
  {
   "cell_type": "code",
   "execution_count": null,
   "id": "prime-money",
   "metadata": {},
   "outputs": [],
   "source": [
    "songplays_table = df_song_actions.select(\n",
    "        col('datetime').alias('start_time'),\n",
    "        col('userId').alias('user_id'),\n",
    "        col('level').alias('level'),\n",
    "        col('song_id').alias('song_id'),\n",
    "        col('artist_id').alias('artist_id'),\n",
    "        col('sessionId').alias('session_id'),\n",
    "        col('location').alias('location'),\n",
    "        col('userAgent').alias('user_agent')\n",
    "    ).withColumn('songplay_id', monotonically_increasing_id())\n",
    "    \n"
   ]
  },
  {
   "cell_type": "code",
   "execution_count": null,
   "id": "owned-feeling",
   "metadata": {},
   "outputs": [],
   "source": [
    "\n",
    "# write songplays table to parquet files partitioned by year and month\n",
    "songplays_table.createOrReplaceTempView('songplays')\n",
    "\n"
   ]
  },
  {
   "cell_type": "code",
   "execution_count": null,
   "id": "shared-denmark",
   "metadata": {},
   "outputs": [],
   "source": [
    "time_table = time_table.alias('timetable')\n",
    "\n"
   ]
  },
  {
   "cell_type": "code",
   "execution_count": null,
   "id": "devoted-schema",
   "metadata": {},
   "outputs": [],
   "source": [
    "songplays_table.write.partitionBy(\n",
    "    'year', 'month'\n",
    ").parquet(os.path.join(output_data, 'songplays/songplays.parquet'), 'overwrite')"
   ]
  },
  {
   "cell_type": "code",
   "execution_count": null,
   "id": "affected-domestic",
   "metadata": {},
   "outputs": [],
   "source": []
  },
  {
   "cell_type": "code",
   "execution_count": null,
   "id": "floral-barcelona",
   "metadata": {},
   "outputs": [],
   "source": [
    "def process_log_data(spark, input_data, output_data):\n",
    "    \"\"\"\n",
    "    Function: Extract data from log_data files for user and time tables. From both log_data and song_data files get data for songplays     table. Data written into parquet files and load into S3 bucket\n",
    "    \n",
    "    Prameter list\n",
    "    spark:        session, spark session has been created. \n",
    "    input_data:   string of path, a path point to S3 bucket.\n",
    "    output_data:  string of path, a path point to destination in S3.\n",
    "    \n",
    "    \"\"\"\n",
    "    # get filepath to log data file\n",
    "    log_data = input_data + 'log_data/*.json'\n",
    "\n",
    "    # read log data file\n",
    "    df = spark.read.json(log_data)\n",
    "    \n",
    "    # filter by actions for song plays\n",
    "    df_actions = df.filter(df.page == 'NextSong')\\\n",
    "                   .select('ts', 'userId', 'level', 'song', 'artist', 'sessionId', 'location', 'userAgent')\n",
    "\n",
    "    # extract columns for users table    \n",
    "    users_table = df.select('userId', 'firstName', 'lastName', 'gender', 'level').dropDuplicates()\n",
    "    \n",
    "    users_table.createOrReplaceTempView('users')\n",
    "    \n",
    "    # write users table to parquet files\n",
    "    users_table.write.parquet(os.path.join(output_data, 'users/users.parquet'), 'overwrite')\n",
    "\n",
    "    # create timestamp column from original timestamp column\n",
    "    get_timestamp = udf(lambda x: str(int(int(x) / 1000)))\n",
    "    df_actions = df_actions.withColumn('timestamp', get_timestamp(df_actions.ts)) \n",
    "    \n",
    "    # create datetime column from original timestamp column\n",
    "    get_datetime = udf(lambda x: str(datetime.fromtimestamp(int(x)/1000)))\n",
    "    df_actions = df_actions.withColumn('datetime', get_datetime(df_actions.ts)) \n",
    "    \n",
    "    # extract columns to create time table\n",
    "    time_table = df_actions.select('datetime')\\\n",
    "                           .withColumn('start_time', df_actions.datetime)\\\n",
    "                           .withColumn('hour', hour('datetime'))\\\n",
    "                           .withColumn('day', dayofmonth('datetime'))\\\n",
    "                           .withColumn('week', weekofyear('datetime'))\\\n",
    "                           .withColumn('month', month('datetime'))\\\n",
    "                           .withColumn('year', year('datetime'))\\\n",
    "                           .withColumn('weekday', dayofweek('datetime'))\\\n",
    "                           .dropDuplicates()\n",
    "    \n",
    "    # write time table to parquet files partitioned by year and month\n",
    "    time_table.write.partitionBy('year', 'month')\\\n",
    "                    .parquet(os.path.join(output_data, 'time/time.parquet'), 'overwrite')\n",
    "\n",
    "    # read in song data to use for songplays table\n",
    "    df_songs = spark.read.json(input_data + 'song_data/*/*/*/*.json')\n",
    "\n",
    "    # extract columns from joined song and log datasets to create songplays table \n",
    "    df_song_actions = df_actions.join(df_songs, df_actions['artist'] == df_songs['artist_name'],'inner')\n",
    "    songplays_table = df_song_actions.select(\n",
    "        col('df_actions.datetime').alias('start_time'),\n",
    "        col('df_actions.userId').alias('user_id'),\n",
    "        col('df_actions.level').alias('level'),\n",
    "        col('df_songs.song_id').alias('song_id'),\n",
    "        col('df_songs.artist_id').alias('artist_id'),\n",
    "        col('df_actions.sessionId').alias('session_id'),\n",
    "        col('df_actions.location').alias('location'),\n",
    "        col('df_actions.userAgent').alias('user_agent'),\n",
    "        year('log_df.datetime').alias('year'),\n",
    "        month('log_df.datetime').alias('month')\n",
    "    ).withColumn('songplay_id', monotonically_increasing_id())\n",
    "    \n",
    "\n",
    "    # write songplays table to parquet files partitioned by year and month\n",
    "    songplays_table.createOrReplaceTempView('songplays')\n",
    "    \n",
    "    time_table = time_table.alias('timetable')\n",
    "    \n",
    "    songplays_table.write.partitionBy(\n",
    "        'year', 'month'\n",
    "    ).parquet(os.path.join(output_data, 'songplays/songplays.parquet'), 'overwrite')\n"
   ]
  },
  {
   "cell_type": "code",
   "execution_count": null,
   "id": "australian-isolation",
   "metadata": {},
   "outputs": [],
   "source": []
  },
  {
   "cell_type": "code",
   "execution_count": null,
   "id": "ready-barrel",
   "metadata": {},
   "outputs": [],
   "source": [
    "def main():\n",
    "    '''\n",
    "    Funtions:\n",
    "    * Get or create a spark session\n",
    "    * Read the song and log data from S3\n",
    "    * Transform data into dimension and fact tables\n",
    "    * Wrote into parquet files\n",
    "    * Load parquet files to S3\n",
    "    '''\n",
    "    spark = create_spark_session()\n",
    "#     input_data = \"s3a://udacity-dend/\"\n",
    "    input_data = \"./data/\"\n",
    "#     output_data = \"s3a://lj_loaded_data/\"\n",
    "    output_data = \"./data/output/\"\n",
    "    \n",
    "    process_song_data(spark, input_data, output_data)    \n",
    "    process_log_data(spark, input_data, output_data)\n"
   ]
  },
  {
   "cell_type": "code",
   "execution_count": null,
   "id": "patent-international",
   "metadata": {},
   "outputs": [],
   "source": []
  }
 ],
 "metadata": {
  "kernelspec": {
   "display_name": "Python 3",
   "language": "python",
   "name": "python3"
  },
  "language_info": {
   "codemirror_mode": {
    "name": "ipython",
    "version": 3
   },
   "file_extension": ".py",
   "mimetype": "text/x-python",
   "name": "python",
   "nbconvert_exporter": "python",
   "pygments_lexer": "ipython3",
   "version": "3.9.2"
  }
 },
 "nbformat": 4,
 "nbformat_minor": 5
}
